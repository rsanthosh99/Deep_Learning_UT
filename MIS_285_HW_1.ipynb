{
  "nbformat": 4,
  "nbformat_minor": 0,
  "metadata": {
    "colab": {
      "provenance": [],
      "include_colab_link": true
    },
    "kernelspec": {
      "name": "python3",
      "display_name": "Python 3"
    },
    "language_info": {
      "name": "python"
    },
    "widgets": {
      "application/vnd.jupyter.widget-state+json": {
        "cdaa57d8e933450fbc4dab494fd53d3b": {
          "model_module": "@jupyter-widgets/controls",
          "model_name": "HBoxModel",
          "model_module_version": "1.5.0",
          "state": {
            "_dom_classes": [],
            "_model_module": "@jupyter-widgets/controls",
            "_model_module_version": "1.5.0",
            "_model_name": "HBoxModel",
            "_view_count": null,
            "_view_module": "@jupyter-widgets/controls",
            "_view_module_version": "1.5.0",
            "_view_name": "HBoxView",
            "box_style": "",
            "children": [
              "IPY_MODEL_3ef7fbcd349f42fca107d99579897907",
              "IPY_MODEL_4184c0cb54954c3fb571963be81e897b",
              "IPY_MODEL_bd9bf3954aca402bb0a306499a22e407"
            ],
            "layout": "IPY_MODEL_af4079c2f5424c86ae355bfd928e2ee4"
          }
        },
        "3ef7fbcd349f42fca107d99579897907": {
          "model_module": "@jupyter-widgets/controls",
          "model_name": "HTMLModel",
          "model_module_version": "1.5.0",
          "state": {
            "_dom_classes": [],
            "_model_module": "@jupyter-widgets/controls",
            "_model_module_version": "1.5.0",
            "_model_name": "HTMLModel",
            "_view_count": null,
            "_view_module": "@jupyter-widgets/controls",
            "_view_module_version": "1.5.0",
            "_view_name": "HTMLView",
            "description": "",
            "description_tooltip": null,
            "layout": "IPY_MODEL_b853063a0c83480f9fc569dcba884728",
            "placeholder": "​",
            "style": "IPY_MODEL_1300d7ec3fce495ab0c95bb2746c8970",
            "value": "100%"
          }
        },
        "4184c0cb54954c3fb571963be81e897b": {
          "model_module": "@jupyter-widgets/controls",
          "model_name": "FloatProgressModel",
          "model_module_version": "1.5.0",
          "state": {
            "_dom_classes": [],
            "_model_module": "@jupyter-widgets/controls",
            "_model_module_version": "1.5.0",
            "_model_name": "FloatProgressModel",
            "_view_count": null,
            "_view_module": "@jupyter-widgets/controls",
            "_view_module_version": "1.5.0",
            "_view_name": "ProgressView",
            "bar_style": "success",
            "description": "",
            "description_tooltip": null,
            "layout": "IPY_MODEL_ef279537a3124ed08e59c7a312b25a77",
            "max": 5000,
            "min": 0,
            "orientation": "horizontal",
            "style": "IPY_MODEL_38c549f4f0dc43429b1233b1812b2a50",
            "value": 5000
          }
        },
        "bd9bf3954aca402bb0a306499a22e407": {
          "model_module": "@jupyter-widgets/controls",
          "model_name": "HTMLModel",
          "model_module_version": "1.5.0",
          "state": {
            "_dom_classes": [],
            "_model_module": "@jupyter-widgets/controls",
            "_model_module_version": "1.5.0",
            "_model_name": "HTMLModel",
            "_view_count": null,
            "_view_module": "@jupyter-widgets/controls",
            "_view_module_version": "1.5.0",
            "_view_name": "HTMLView",
            "description": "",
            "description_tooltip": null,
            "layout": "IPY_MODEL_5932599b75df478e8be2dc3933a9a0e2",
            "placeholder": "​",
            "style": "IPY_MODEL_734c514e471b420b89d96f70a679b825",
            "value": " 5000/5000 [00:54&lt;00:00, 92.60it/s]"
          }
        },
        "af4079c2f5424c86ae355bfd928e2ee4": {
          "model_module": "@jupyter-widgets/base",
          "model_name": "LayoutModel",
          "model_module_version": "1.2.0",
          "state": {
            "_model_module": "@jupyter-widgets/base",
            "_model_module_version": "1.2.0",
            "_model_name": "LayoutModel",
            "_view_count": null,
            "_view_module": "@jupyter-widgets/base",
            "_view_module_version": "1.2.0",
            "_view_name": "LayoutView",
            "align_content": null,
            "align_items": null,
            "align_self": null,
            "border": null,
            "bottom": null,
            "display": null,
            "flex": null,
            "flex_flow": null,
            "grid_area": null,
            "grid_auto_columns": null,
            "grid_auto_flow": null,
            "grid_auto_rows": null,
            "grid_column": null,
            "grid_gap": null,
            "grid_row": null,
            "grid_template_areas": null,
            "grid_template_columns": null,
            "grid_template_rows": null,
            "height": null,
            "justify_content": null,
            "justify_items": null,
            "left": null,
            "margin": null,
            "max_height": null,
            "max_width": null,
            "min_height": null,
            "min_width": null,
            "object_fit": null,
            "object_position": null,
            "order": null,
            "overflow": null,
            "overflow_x": null,
            "overflow_y": null,
            "padding": null,
            "right": null,
            "top": null,
            "visibility": null,
            "width": null
          }
        },
        "b853063a0c83480f9fc569dcba884728": {
          "model_module": "@jupyter-widgets/base",
          "model_name": "LayoutModel",
          "model_module_version": "1.2.0",
          "state": {
            "_model_module": "@jupyter-widgets/base",
            "_model_module_version": "1.2.0",
            "_model_name": "LayoutModel",
            "_view_count": null,
            "_view_module": "@jupyter-widgets/base",
            "_view_module_version": "1.2.0",
            "_view_name": "LayoutView",
            "align_content": null,
            "align_items": null,
            "align_self": null,
            "border": null,
            "bottom": null,
            "display": null,
            "flex": null,
            "flex_flow": null,
            "grid_area": null,
            "grid_auto_columns": null,
            "grid_auto_flow": null,
            "grid_auto_rows": null,
            "grid_column": null,
            "grid_gap": null,
            "grid_row": null,
            "grid_template_areas": null,
            "grid_template_columns": null,
            "grid_template_rows": null,
            "height": null,
            "justify_content": null,
            "justify_items": null,
            "left": null,
            "margin": null,
            "max_height": null,
            "max_width": null,
            "min_height": null,
            "min_width": null,
            "object_fit": null,
            "object_position": null,
            "order": null,
            "overflow": null,
            "overflow_x": null,
            "overflow_y": null,
            "padding": null,
            "right": null,
            "top": null,
            "visibility": null,
            "width": null
          }
        },
        "1300d7ec3fce495ab0c95bb2746c8970": {
          "model_module": "@jupyter-widgets/controls",
          "model_name": "DescriptionStyleModel",
          "model_module_version": "1.5.0",
          "state": {
            "_model_module": "@jupyter-widgets/controls",
            "_model_module_version": "1.5.0",
            "_model_name": "DescriptionStyleModel",
            "_view_count": null,
            "_view_module": "@jupyter-widgets/base",
            "_view_module_version": "1.2.0",
            "_view_name": "StyleView",
            "description_width": ""
          }
        },
        "ef279537a3124ed08e59c7a312b25a77": {
          "model_module": "@jupyter-widgets/base",
          "model_name": "LayoutModel",
          "model_module_version": "1.2.0",
          "state": {
            "_model_module": "@jupyter-widgets/base",
            "_model_module_version": "1.2.0",
            "_model_name": "LayoutModel",
            "_view_count": null,
            "_view_module": "@jupyter-widgets/base",
            "_view_module_version": "1.2.0",
            "_view_name": "LayoutView",
            "align_content": null,
            "align_items": null,
            "align_self": null,
            "border": null,
            "bottom": null,
            "display": null,
            "flex": null,
            "flex_flow": null,
            "grid_area": null,
            "grid_auto_columns": null,
            "grid_auto_flow": null,
            "grid_auto_rows": null,
            "grid_column": null,
            "grid_gap": null,
            "grid_row": null,
            "grid_template_areas": null,
            "grid_template_columns": null,
            "grid_template_rows": null,
            "height": null,
            "justify_content": null,
            "justify_items": null,
            "left": null,
            "margin": null,
            "max_height": null,
            "max_width": null,
            "min_height": null,
            "min_width": null,
            "object_fit": null,
            "object_position": null,
            "order": null,
            "overflow": null,
            "overflow_x": null,
            "overflow_y": null,
            "padding": null,
            "right": null,
            "top": null,
            "visibility": null,
            "width": null
          }
        },
        "38c549f4f0dc43429b1233b1812b2a50": {
          "model_module": "@jupyter-widgets/controls",
          "model_name": "ProgressStyleModel",
          "model_module_version": "1.5.0",
          "state": {
            "_model_module": "@jupyter-widgets/controls",
            "_model_module_version": "1.5.0",
            "_model_name": "ProgressStyleModel",
            "_view_count": null,
            "_view_module": "@jupyter-widgets/base",
            "_view_module_version": "1.2.0",
            "_view_name": "StyleView",
            "bar_color": null,
            "description_width": ""
          }
        },
        "5932599b75df478e8be2dc3933a9a0e2": {
          "model_module": "@jupyter-widgets/base",
          "model_name": "LayoutModel",
          "model_module_version": "1.2.0",
          "state": {
            "_model_module": "@jupyter-widgets/base",
            "_model_module_version": "1.2.0",
            "_model_name": "LayoutModel",
            "_view_count": null,
            "_view_module": "@jupyter-widgets/base",
            "_view_module_version": "1.2.0",
            "_view_name": "LayoutView",
            "align_content": null,
            "align_items": null,
            "align_self": null,
            "border": null,
            "bottom": null,
            "display": null,
            "flex": null,
            "flex_flow": null,
            "grid_area": null,
            "grid_auto_columns": null,
            "grid_auto_flow": null,
            "grid_auto_rows": null,
            "grid_column": null,
            "grid_gap": null,
            "grid_row": null,
            "grid_template_areas": null,
            "grid_template_columns": null,
            "grid_template_rows": null,
            "height": null,
            "justify_content": null,
            "justify_items": null,
            "left": null,
            "margin": null,
            "max_height": null,
            "max_width": null,
            "min_height": null,
            "min_width": null,
            "object_fit": null,
            "object_position": null,
            "order": null,
            "overflow": null,
            "overflow_x": null,
            "overflow_y": null,
            "padding": null,
            "right": null,
            "top": null,
            "visibility": null,
            "width": null
          }
        },
        "734c514e471b420b89d96f70a679b825": {
          "model_module": "@jupyter-widgets/controls",
          "model_name": "DescriptionStyleModel",
          "model_module_version": "1.5.0",
          "state": {
            "_model_module": "@jupyter-widgets/controls",
            "_model_module_version": "1.5.0",
            "_model_name": "DescriptionStyleModel",
            "_view_count": null,
            "_view_module": "@jupyter-widgets/base",
            "_view_module_version": "1.2.0",
            "_view_name": "StyleView",
            "description_width": ""
          }
        },
        "6ec3b40f61124422a3cca35727e44eeb": {
          "model_module": "@jupyter-widgets/controls",
          "model_name": "HBoxModel",
          "model_module_version": "1.5.0",
          "state": {
            "_dom_classes": [],
            "_model_module": "@jupyter-widgets/controls",
            "_model_module_version": "1.5.0",
            "_model_name": "HBoxModel",
            "_view_count": null,
            "_view_module": "@jupyter-widgets/controls",
            "_view_module_version": "1.5.0",
            "_view_name": "HBoxView",
            "box_style": "",
            "children": [
              "IPY_MODEL_b64398bff8394c82b523a586547f41c0",
              "IPY_MODEL_b3db2d0441f94e62ac6a447f8644719a",
              "IPY_MODEL_fbaba2dcebd240b99b5958cea1c73392"
            ],
            "layout": "IPY_MODEL_f1cadca634624b57802b55fc353bcc5a"
          }
        },
        "b64398bff8394c82b523a586547f41c0": {
          "model_module": "@jupyter-widgets/controls",
          "model_name": "HTMLModel",
          "model_module_version": "1.5.0",
          "state": {
            "_dom_classes": [],
            "_model_module": "@jupyter-widgets/controls",
            "_model_module_version": "1.5.0",
            "_model_name": "HTMLModel",
            "_view_count": null,
            "_view_module": "@jupyter-widgets/controls",
            "_view_module_version": "1.5.0",
            "_view_name": "HTMLView",
            "description": "",
            "description_tooltip": null,
            "layout": "IPY_MODEL_1c1939922a2f4aebb967c6f493ad8ff8",
            "placeholder": "​",
            "style": "IPY_MODEL_7df54dc55b3a45a4b6316728089cf3b0",
            "value": "100%"
          }
        },
        "b3db2d0441f94e62ac6a447f8644719a": {
          "model_module": "@jupyter-widgets/controls",
          "model_name": "FloatProgressModel",
          "model_module_version": "1.5.0",
          "state": {
            "_dom_classes": [],
            "_model_module": "@jupyter-widgets/controls",
            "_model_module_version": "1.5.0",
            "_model_name": "FloatProgressModel",
            "_view_count": null,
            "_view_module": "@jupyter-widgets/controls",
            "_view_module_version": "1.5.0",
            "_view_name": "ProgressView",
            "bar_style": "success",
            "description": "",
            "description_tooltip": null,
            "layout": "IPY_MODEL_99286e575dea460499809ad26fc18f19",
            "max": 5000,
            "min": 0,
            "orientation": "horizontal",
            "style": "IPY_MODEL_90ba6cc446f14e06b83656fd9743e836",
            "value": 5000
          }
        },
        "fbaba2dcebd240b99b5958cea1c73392": {
          "model_module": "@jupyter-widgets/controls",
          "model_name": "HTMLModel",
          "model_module_version": "1.5.0",
          "state": {
            "_dom_classes": [],
            "_model_module": "@jupyter-widgets/controls",
            "_model_module_version": "1.5.0",
            "_model_name": "HTMLModel",
            "_view_count": null,
            "_view_module": "@jupyter-widgets/controls",
            "_view_module_version": "1.5.0",
            "_view_name": "HTMLView",
            "description": "",
            "description_tooltip": null,
            "layout": "IPY_MODEL_6ea53f231cfe48c8bf43dbd7873e7588",
            "placeholder": "​",
            "style": "IPY_MODEL_d25acbbb7e764a73ae4815b870ef40d4",
            "value": " 5000/5000 [01:11&lt;00:00, 71.21it/s]"
          }
        },
        "f1cadca634624b57802b55fc353bcc5a": {
          "model_module": "@jupyter-widgets/base",
          "model_name": "LayoutModel",
          "model_module_version": "1.2.0",
          "state": {
            "_model_module": "@jupyter-widgets/base",
            "_model_module_version": "1.2.0",
            "_model_name": "LayoutModel",
            "_view_count": null,
            "_view_module": "@jupyter-widgets/base",
            "_view_module_version": "1.2.0",
            "_view_name": "LayoutView",
            "align_content": null,
            "align_items": null,
            "align_self": null,
            "border": null,
            "bottom": null,
            "display": null,
            "flex": null,
            "flex_flow": null,
            "grid_area": null,
            "grid_auto_columns": null,
            "grid_auto_flow": null,
            "grid_auto_rows": null,
            "grid_column": null,
            "grid_gap": null,
            "grid_row": null,
            "grid_template_areas": null,
            "grid_template_columns": null,
            "grid_template_rows": null,
            "height": null,
            "justify_content": null,
            "justify_items": null,
            "left": null,
            "margin": null,
            "max_height": null,
            "max_width": null,
            "min_height": null,
            "min_width": null,
            "object_fit": null,
            "object_position": null,
            "order": null,
            "overflow": null,
            "overflow_x": null,
            "overflow_y": null,
            "padding": null,
            "right": null,
            "top": null,
            "visibility": null,
            "width": null
          }
        },
        "1c1939922a2f4aebb967c6f493ad8ff8": {
          "model_module": "@jupyter-widgets/base",
          "model_name": "LayoutModel",
          "model_module_version": "1.2.0",
          "state": {
            "_model_module": "@jupyter-widgets/base",
            "_model_module_version": "1.2.0",
            "_model_name": "LayoutModel",
            "_view_count": null,
            "_view_module": "@jupyter-widgets/base",
            "_view_module_version": "1.2.0",
            "_view_name": "LayoutView",
            "align_content": null,
            "align_items": null,
            "align_self": null,
            "border": null,
            "bottom": null,
            "display": null,
            "flex": null,
            "flex_flow": null,
            "grid_area": null,
            "grid_auto_columns": null,
            "grid_auto_flow": null,
            "grid_auto_rows": null,
            "grid_column": null,
            "grid_gap": null,
            "grid_row": null,
            "grid_template_areas": null,
            "grid_template_columns": null,
            "grid_template_rows": null,
            "height": null,
            "justify_content": null,
            "justify_items": null,
            "left": null,
            "margin": null,
            "max_height": null,
            "max_width": null,
            "min_height": null,
            "min_width": null,
            "object_fit": null,
            "object_position": null,
            "order": null,
            "overflow": null,
            "overflow_x": null,
            "overflow_y": null,
            "padding": null,
            "right": null,
            "top": null,
            "visibility": null,
            "width": null
          }
        },
        "7df54dc55b3a45a4b6316728089cf3b0": {
          "model_module": "@jupyter-widgets/controls",
          "model_name": "DescriptionStyleModel",
          "model_module_version": "1.5.0",
          "state": {
            "_model_module": "@jupyter-widgets/controls",
            "_model_module_version": "1.5.0",
            "_model_name": "DescriptionStyleModel",
            "_view_count": null,
            "_view_module": "@jupyter-widgets/base",
            "_view_module_version": "1.2.0",
            "_view_name": "StyleView",
            "description_width": ""
          }
        },
        "99286e575dea460499809ad26fc18f19": {
          "model_module": "@jupyter-widgets/base",
          "model_name": "LayoutModel",
          "model_module_version": "1.2.0",
          "state": {
            "_model_module": "@jupyter-widgets/base",
            "_model_module_version": "1.2.0",
            "_model_name": "LayoutModel",
            "_view_count": null,
            "_view_module": "@jupyter-widgets/base",
            "_view_module_version": "1.2.0",
            "_view_name": "LayoutView",
            "align_content": null,
            "align_items": null,
            "align_self": null,
            "border": null,
            "bottom": null,
            "display": null,
            "flex": null,
            "flex_flow": null,
            "grid_area": null,
            "grid_auto_columns": null,
            "grid_auto_flow": null,
            "grid_auto_rows": null,
            "grid_column": null,
            "grid_gap": null,
            "grid_row": null,
            "grid_template_areas": null,
            "grid_template_columns": null,
            "grid_template_rows": null,
            "height": null,
            "justify_content": null,
            "justify_items": null,
            "left": null,
            "margin": null,
            "max_height": null,
            "max_width": null,
            "min_height": null,
            "min_width": null,
            "object_fit": null,
            "object_position": null,
            "order": null,
            "overflow": null,
            "overflow_x": null,
            "overflow_y": null,
            "padding": null,
            "right": null,
            "top": null,
            "visibility": null,
            "width": null
          }
        },
        "90ba6cc446f14e06b83656fd9743e836": {
          "model_module": "@jupyter-widgets/controls",
          "model_name": "ProgressStyleModel",
          "model_module_version": "1.5.0",
          "state": {
            "_model_module": "@jupyter-widgets/controls",
            "_model_module_version": "1.5.0",
            "_model_name": "ProgressStyleModel",
            "_view_count": null,
            "_view_module": "@jupyter-widgets/base",
            "_view_module_version": "1.2.0",
            "_view_name": "StyleView",
            "bar_color": null,
            "description_width": ""
          }
        },
        "6ea53f231cfe48c8bf43dbd7873e7588": {
          "model_module": "@jupyter-widgets/base",
          "model_name": "LayoutModel",
          "model_module_version": "1.2.0",
          "state": {
            "_model_module": "@jupyter-widgets/base",
            "_model_module_version": "1.2.0",
            "_model_name": "LayoutModel",
            "_view_count": null,
            "_view_module": "@jupyter-widgets/base",
            "_view_module_version": "1.2.0",
            "_view_name": "LayoutView",
            "align_content": null,
            "align_items": null,
            "align_self": null,
            "border": null,
            "bottom": null,
            "display": null,
            "flex": null,
            "flex_flow": null,
            "grid_area": null,
            "grid_auto_columns": null,
            "grid_auto_flow": null,
            "grid_auto_rows": null,
            "grid_column": null,
            "grid_gap": null,
            "grid_row": null,
            "grid_template_areas": null,
            "grid_template_columns": null,
            "grid_template_rows": null,
            "height": null,
            "justify_content": null,
            "justify_items": null,
            "left": null,
            "margin": null,
            "max_height": null,
            "max_width": null,
            "min_height": null,
            "min_width": null,
            "object_fit": null,
            "object_position": null,
            "order": null,
            "overflow": null,
            "overflow_x": null,
            "overflow_y": null,
            "padding": null,
            "right": null,
            "top": null,
            "visibility": null,
            "width": null
          }
        },
        "d25acbbb7e764a73ae4815b870ef40d4": {
          "model_module": "@jupyter-widgets/controls",
          "model_name": "DescriptionStyleModel",
          "model_module_version": "1.5.0",
          "state": {
            "_model_module": "@jupyter-widgets/controls",
            "_model_module_version": "1.5.0",
            "_model_name": "DescriptionStyleModel",
            "_view_count": null,
            "_view_module": "@jupyter-widgets/base",
            "_view_module_version": "1.2.0",
            "_view_name": "StyleView",
            "description_width": ""
          }
        },
        "d23f0ea7bedc48e6a6f8b2502b3077a2": {
          "model_module": "@jupyter-widgets/controls",
          "model_name": "HBoxModel",
          "model_module_version": "1.5.0",
          "state": {
            "_dom_classes": [],
            "_model_module": "@jupyter-widgets/controls",
            "_model_module_version": "1.5.0",
            "_model_name": "HBoxModel",
            "_view_count": null,
            "_view_module": "@jupyter-widgets/controls",
            "_view_module_version": "1.5.0",
            "_view_name": "HBoxView",
            "box_style": "",
            "children": [
              "IPY_MODEL_ab50c275e4ab43a3a6c7ebc2b0104abc",
              "IPY_MODEL_998c487884d7428db6e283c60b54c6e5",
              "IPY_MODEL_eae32b5a643b4f78a7343087f7e0820d"
            ],
            "layout": "IPY_MODEL_2640ec245a2e473582c7b258b25a487b"
          }
        },
        "ab50c275e4ab43a3a6c7ebc2b0104abc": {
          "model_module": "@jupyter-widgets/controls",
          "model_name": "HTMLModel",
          "model_module_version": "1.5.0",
          "state": {
            "_dom_classes": [],
            "_model_module": "@jupyter-widgets/controls",
            "_model_module_version": "1.5.0",
            "_model_name": "HTMLModel",
            "_view_count": null,
            "_view_module": "@jupyter-widgets/controls",
            "_view_module_version": "1.5.0",
            "_view_name": "HTMLView",
            "description": "",
            "description_tooltip": null,
            "layout": "IPY_MODEL_88cd55441837492d8e1cbf8266d99974",
            "placeholder": "​",
            "style": "IPY_MODEL_bd583c89204b4263a62ca4c9b0326438",
            "value": "100%"
          }
        },
        "998c487884d7428db6e283c60b54c6e5": {
          "model_module": "@jupyter-widgets/controls",
          "model_name": "FloatProgressModel",
          "model_module_version": "1.5.0",
          "state": {
            "_dom_classes": [],
            "_model_module": "@jupyter-widgets/controls",
            "_model_module_version": "1.5.0",
            "_model_name": "FloatProgressModel",
            "_view_count": null,
            "_view_module": "@jupyter-widgets/controls",
            "_view_module_version": "1.5.0",
            "_view_name": "ProgressView",
            "bar_style": "success",
            "description": "",
            "description_tooltip": null,
            "layout": "IPY_MODEL_73c82d156f7248378b6c21a3c9423d3e",
            "max": 5000,
            "min": 0,
            "orientation": "horizontal",
            "style": "IPY_MODEL_d17682b80dfc48ecb20c32ea7030c848",
            "value": 5000
          }
        },
        "eae32b5a643b4f78a7343087f7e0820d": {
          "model_module": "@jupyter-widgets/controls",
          "model_name": "HTMLModel",
          "model_module_version": "1.5.0",
          "state": {
            "_dom_classes": [],
            "_model_module": "@jupyter-widgets/controls",
            "_model_module_version": "1.5.0",
            "_model_name": "HTMLModel",
            "_view_count": null,
            "_view_module": "@jupyter-widgets/controls",
            "_view_module_version": "1.5.0",
            "_view_name": "HTMLView",
            "description": "",
            "description_tooltip": null,
            "layout": "IPY_MODEL_b2d0c63a7e0f458286055925419040d3",
            "placeholder": "​",
            "style": "IPY_MODEL_30ca13fe3d8a4893bf50bddec99e929d",
            "value": " 5000/5000 [00:18&lt;00:00, 275.39it/s]"
          }
        },
        "2640ec245a2e473582c7b258b25a487b": {
          "model_module": "@jupyter-widgets/base",
          "model_name": "LayoutModel",
          "model_module_version": "1.2.0",
          "state": {
            "_model_module": "@jupyter-widgets/base",
            "_model_module_version": "1.2.0",
            "_model_name": "LayoutModel",
            "_view_count": null,
            "_view_module": "@jupyter-widgets/base",
            "_view_module_version": "1.2.0",
            "_view_name": "LayoutView",
            "align_content": null,
            "align_items": null,
            "align_self": null,
            "border": null,
            "bottom": null,
            "display": null,
            "flex": null,
            "flex_flow": null,
            "grid_area": null,
            "grid_auto_columns": null,
            "grid_auto_flow": null,
            "grid_auto_rows": null,
            "grid_column": null,
            "grid_gap": null,
            "grid_row": null,
            "grid_template_areas": null,
            "grid_template_columns": null,
            "grid_template_rows": null,
            "height": null,
            "justify_content": null,
            "justify_items": null,
            "left": null,
            "margin": null,
            "max_height": null,
            "max_width": null,
            "min_height": null,
            "min_width": null,
            "object_fit": null,
            "object_position": null,
            "order": null,
            "overflow": null,
            "overflow_x": null,
            "overflow_y": null,
            "padding": null,
            "right": null,
            "top": null,
            "visibility": null,
            "width": null
          }
        },
        "88cd55441837492d8e1cbf8266d99974": {
          "model_module": "@jupyter-widgets/base",
          "model_name": "LayoutModel",
          "model_module_version": "1.2.0",
          "state": {
            "_model_module": "@jupyter-widgets/base",
            "_model_module_version": "1.2.0",
            "_model_name": "LayoutModel",
            "_view_count": null,
            "_view_module": "@jupyter-widgets/base",
            "_view_module_version": "1.2.0",
            "_view_name": "LayoutView",
            "align_content": null,
            "align_items": null,
            "align_self": null,
            "border": null,
            "bottom": null,
            "display": null,
            "flex": null,
            "flex_flow": null,
            "grid_area": null,
            "grid_auto_columns": null,
            "grid_auto_flow": null,
            "grid_auto_rows": null,
            "grid_column": null,
            "grid_gap": null,
            "grid_row": null,
            "grid_template_areas": null,
            "grid_template_columns": null,
            "grid_template_rows": null,
            "height": null,
            "justify_content": null,
            "justify_items": null,
            "left": null,
            "margin": null,
            "max_height": null,
            "max_width": null,
            "min_height": null,
            "min_width": null,
            "object_fit": null,
            "object_position": null,
            "order": null,
            "overflow": null,
            "overflow_x": null,
            "overflow_y": null,
            "padding": null,
            "right": null,
            "top": null,
            "visibility": null,
            "width": null
          }
        },
        "bd583c89204b4263a62ca4c9b0326438": {
          "model_module": "@jupyter-widgets/controls",
          "model_name": "DescriptionStyleModel",
          "model_module_version": "1.5.0",
          "state": {
            "_model_module": "@jupyter-widgets/controls",
            "_model_module_version": "1.5.0",
            "_model_name": "DescriptionStyleModel",
            "_view_count": null,
            "_view_module": "@jupyter-widgets/base",
            "_view_module_version": "1.2.0",
            "_view_name": "StyleView",
            "description_width": ""
          }
        },
        "73c82d156f7248378b6c21a3c9423d3e": {
          "model_module": "@jupyter-widgets/base",
          "model_name": "LayoutModel",
          "model_module_version": "1.2.0",
          "state": {
            "_model_module": "@jupyter-widgets/base",
            "_model_module_version": "1.2.0",
            "_model_name": "LayoutModel",
            "_view_count": null,
            "_view_module": "@jupyter-widgets/base",
            "_view_module_version": "1.2.0",
            "_view_name": "LayoutView",
            "align_content": null,
            "align_items": null,
            "align_self": null,
            "border": null,
            "bottom": null,
            "display": null,
            "flex": null,
            "flex_flow": null,
            "grid_area": null,
            "grid_auto_columns": null,
            "grid_auto_flow": null,
            "grid_auto_rows": null,
            "grid_column": null,
            "grid_gap": null,
            "grid_row": null,
            "grid_template_areas": null,
            "grid_template_columns": null,
            "grid_template_rows": null,
            "height": null,
            "justify_content": null,
            "justify_items": null,
            "left": null,
            "margin": null,
            "max_height": null,
            "max_width": null,
            "min_height": null,
            "min_width": null,
            "object_fit": null,
            "object_position": null,
            "order": null,
            "overflow": null,
            "overflow_x": null,
            "overflow_y": null,
            "padding": null,
            "right": null,
            "top": null,
            "visibility": null,
            "width": null
          }
        },
        "d17682b80dfc48ecb20c32ea7030c848": {
          "model_module": "@jupyter-widgets/controls",
          "model_name": "ProgressStyleModel",
          "model_module_version": "1.5.0",
          "state": {
            "_model_module": "@jupyter-widgets/controls",
            "_model_module_version": "1.5.0",
            "_model_name": "ProgressStyleModel",
            "_view_count": null,
            "_view_module": "@jupyter-widgets/base",
            "_view_module_version": "1.2.0",
            "_view_name": "StyleView",
            "bar_color": null,
            "description_width": ""
          }
        },
        "b2d0c63a7e0f458286055925419040d3": {
          "model_module": "@jupyter-widgets/base",
          "model_name": "LayoutModel",
          "model_module_version": "1.2.0",
          "state": {
            "_model_module": "@jupyter-widgets/base",
            "_model_module_version": "1.2.0",
            "_model_name": "LayoutModel",
            "_view_count": null,
            "_view_module": "@jupyter-widgets/base",
            "_view_module_version": "1.2.0",
            "_view_name": "LayoutView",
            "align_content": null,
            "align_items": null,
            "align_self": null,
            "border": null,
            "bottom": null,
            "display": null,
            "flex": null,
            "flex_flow": null,
            "grid_area": null,
            "grid_auto_columns": null,
            "grid_auto_flow": null,
            "grid_auto_rows": null,
            "grid_column": null,
            "grid_gap": null,
            "grid_row": null,
            "grid_template_areas": null,
            "grid_template_columns": null,
            "grid_template_rows": null,
            "height": null,
            "justify_content": null,
            "justify_items": null,
            "left": null,
            "margin": null,
            "max_height": null,
            "max_width": null,
            "min_height": null,
            "min_width": null,
            "object_fit": null,
            "object_position": null,
            "order": null,
            "overflow": null,
            "overflow_x": null,
            "overflow_y": null,
            "padding": null,
            "right": null,
            "top": null,
            "visibility": null,
            "width": null
          }
        },
        "30ca13fe3d8a4893bf50bddec99e929d": {
          "model_module": "@jupyter-widgets/controls",
          "model_name": "DescriptionStyleModel",
          "model_module_version": "1.5.0",
          "state": {
            "_model_module": "@jupyter-widgets/controls",
            "_model_module_version": "1.5.0",
            "_model_name": "DescriptionStyleModel",
            "_view_count": null,
            "_view_module": "@jupyter-widgets/base",
            "_view_module_version": "1.2.0",
            "_view_name": "StyleView",
            "description_width": ""
          }
        },
        "6d2a10e4798d41428bbaa71ccbac941a": {
          "model_module": "@jupyter-widgets/controls",
          "model_name": "HBoxModel",
          "model_module_version": "1.5.0",
          "state": {
            "_dom_classes": [],
            "_model_module": "@jupyter-widgets/controls",
            "_model_module_version": "1.5.0",
            "_model_name": "HBoxModel",
            "_view_count": null,
            "_view_module": "@jupyter-widgets/controls",
            "_view_module_version": "1.5.0",
            "_view_name": "HBoxView",
            "box_style": "",
            "children": [
              "IPY_MODEL_9cff5e948f934470bd287aea2c44f659",
              "IPY_MODEL_1451cad07c9f487caf84579c2a812091",
              "IPY_MODEL_1148158c8e6142079173ad43e362051c"
            ],
            "layout": "IPY_MODEL_aeb19d616c3d40878dbab0165e4d651f"
          }
        },
        "9cff5e948f934470bd287aea2c44f659": {
          "model_module": "@jupyter-widgets/controls",
          "model_name": "HTMLModel",
          "model_module_version": "1.5.0",
          "state": {
            "_dom_classes": [],
            "_model_module": "@jupyter-widgets/controls",
            "_model_module_version": "1.5.0",
            "_model_name": "HTMLModel",
            "_view_count": null,
            "_view_module": "@jupyter-widgets/controls",
            "_view_module_version": "1.5.0",
            "_view_name": "HTMLView",
            "description": "",
            "description_tooltip": null,
            "layout": "IPY_MODEL_8da69a975a82417eb64c9d27e21b2b7d",
            "placeholder": "​",
            "style": "IPY_MODEL_0184b3fc560d441c8b3dcdcd8230ad85",
            "value": "100%"
          }
        },
        "1451cad07c9f487caf84579c2a812091": {
          "model_module": "@jupyter-widgets/controls",
          "model_name": "FloatProgressModel",
          "model_module_version": "1.5.0",
          "state": {
            "_dom_classes": [],
            "_model_module": "@jupyter-widgets/controls",
            "_model_module_version": "1.5.0",
            "_model_name": "FloatProgressModel",
            "_view_count": null,
            "_view_module": "@jupyter-widgets/controls",
            "_view_module_version": "1.5.0",
            "_view_name": "ProgressView",
            "bar_style": "success",
            "description": "",
            "description_tooltip": null,
            "layout": "IPY_MODEL_bd2df5c46c924fe1a6943341a7cb6be9",
            "max": 5000,
            "min": 0,
            "orientation": "horizontal",
            "style": "IPY_MODEL_8f757e73d4bb4887ae3fdbddb5ab7681",
            "value": 5000
          }
        },
        "1148158c8e6142079173ad43e362051c": {
          "model_module": "@jupyter-widgets/controls",
          "model_name": "HTMLModel",
          "model_module_version": "1.5.0",
          "state": {
            "_dom_classes": [],
            "_model_module": "@jupyter-widgets/controls",
            "_model_module_version": "1.5.0",
            "_model_name": "HTMLModel",
            "_view_count": null,
            "_view_module": "@jupyter-widgets/controls",
            "_view_module_version": "1.5.0",
            "_view_name": "HTMLView",
            "description": "",
            "description_tooltip": null,
            "layout": "IPY_MODEL_9297e2d969534378ae2d7316b3e03b56",
            "placeholder": "​",
            "style": "IPY_MODEL_8919f47613e2411d83d84aa21aa1ff0b",
            "value": " 5000/5000 [00:20&lt;00:00, 251.65it/s]"
          }
        },
        "aeb19d616c3d40878dbab0165e4d651f": {
          "model_module": "@jupyter-widgets/base",
          "model_name": "LayoutModel",
          "model_module_version": "1.2.0",
          "state": {
            "_model_module": "@jupyter-widgets/base",
            "_model_module_version": "1.2.0",
            "_model_name": "LayoutModel",
            "_view_count": null,
            "_view_module": "@jupyter-widgets/base",
            "_view_module_version": "1.2.0",
            "_view_name": "LayoutView",
            "align_content": null,
            "align_items": null,
            "align_self": null,
            "border": null,
            "bottom": null,
            "display": null,
            "flex": null,
            "flex_flow": null,
            "grid_area": null,
            "grid_auto_columns": null,
            "grid_auto_flow": null,
            "grid_auto_rows": null,
            "grid_column": null,
            "grid_gap": null,
            "grid_row": null,
            "grid_template_areas": null,
            "grid_template_columns": null,
            "grid_template_rows": null,
            "height": null,
            "justify_content": null,
            "justify_items": null,
            "left": null,
            "margin": null,
            "max_height": null,
            "max_width": null,
            "min_height": null,
            "min_width": null,
            "object_fit": null,
            "object_position": null,
            "order": null,
            "overflow": null,
            "overflow_x": null,
            "overflow_y": null,
            "padding": null,
            "right": null,
            "top": null,
            "visibility": null,
            "width": null
          }
        },
        "8da69a975a82417eb64c9d27e21b2b7d": {
          "model_module": "@jupyter-widgets/base",
          "model_name": "LayoutModel",
          "model_module_version": "1.2.0",
          "state": {
            "_model_module": "@jupyter-widgets/base",
            "_model_module_version": "1.2.0",
            "_model_name": "LayoutModel",
            "_view_count": null,
            "_view_module": "@jupyter-widgets/base",
            "_view_module_version": "1.2.0",
            "_view_name": "LayoutView",
            "align_content": null,
            "align_items": null,
            "align_self": null,
            "border": null,
            "bottom": null,
            "display": null,
            "flex": null,
            "flex_flow": null,
            "grid_area": null,
            "grid_auto_columns": null,
            "grid_auto_flow": null,
            "grid_auto_rows": null,
            "grid_column": null,
            "grid_gap": null,
            "grid_row": null,
            "grid_template_areas": null,
            "grid_template_columns": null,
            "grid_template_rows": null,
            "height": null,
            "justify_content": null,
            "justify_items": null,
            "left": null,
            "margin": null,
            "max_height": null,
            "max_width": null,
            "min_height": null,
            "min_width": null,
            "object_fit": null,
            "object_position": null,
            "order": null,
            "overflow": null,
            "overflow_x": null,
            "overflow_y": null,
            "padding": null,
            "right": null,
            "top": null,
            "visibility": null,
            "width": null
          }
        },
        "0184b3fc560d441c8b3dcdcd8230ad85": {
          "model_module": "@jupyter-widgets/controls",
          "model_name": "DescriptionStyleModel",
          "model_module_version": "1.5.0",
          "state": {
            "_model_module": "@jupyter-widgets/controls",
            "_model_module_version": "1.5.0",
            "_model_name": "DescriptionStyleModel",
            "_view_count": null,
            "_view_module": "@jupyter-widgets/base",
            "_view_module_version": "1.2.0",
            "_view_name": "StyleView",
            "description_width": ""
          }
        },
        "bd2df5c46c924fe1a6943341a7cb6be9": {
          "model_module": "@jupyter-widgets/base",
          "model_name": "LayoutModel",
          "model_module_version": "1.2.0",
          "state": {
            "_model_module": "@jupyter-widgets/base",
            "_model_module_version": "1.2.0",
            "_model_name": "LayoutModel",
            "_view_count": null,
            "_view_module": "@jupyter-widgets/base",
            "_view_module_version": "1.2.0",
            "_view_name": "LayoutView",
            "align_content": null,
            "align_items": null,
            "align_self": null,
            "border": null,
            "bottom": null,
            "display": null,
            "flex": null,
            "flex_flow": null,
            "grid_area": null,
            "grid_auto_columns": null,
            "grid_auto_flow": null,
            "grid_auto_rows": null,
            "grid_column": null,
            "grid_gap": null,
            "grid_row": null,
            "grid_template_areas": null,
            "grid_template_columns": null,
            "grid_template_rows": null,
            "height": null,
            "justify_content": null,
            "justify_items": null,
            "left": null,
            "margin": null,
            "max_height": null,
            "max_width": null,
            "min_height": null,
            "min_width": null,
            "object_fit": null,
            "object_position": null,
            "order": null,
            "overflow": null,
            "overflow_x": null,
            "overflow_y": null,
            "padding": null,
            "right": null,
            "top": null,
            "visibility": null,
            "width": null
          }
        },
        "8f757e73d4bb4887ae3fdbddb5ab7681": {
          "model_module": "@jupyter-widgets/controls",
          "model_name": "ProgressStyleModel",
          "model_module_version": "1.5.0",
          "state": {
            "_model_module": "@jupyter-widgets/controls",
            "_model_module_version": "1.5.0",
            "_model_name": "ProgressStyleModel",
            "_view_count": null,
            "_view_module": "@jupyter-widgets/base",
            "_view_module_version": "1.2.0",
            "_view_name": "StyleView",
            "bar_color": null,
            "description_width": ""
          }
        },
        "9297e2d969534378ae2d7316b3e03b56": {
          "model_module": "@jupyter-widgets/base",
          "model_name": "LayoutModel",
          "model_module_version": "1.2.0",
          "state": {
            "_model_module": "@jupyter-widgets/base",
            "_model_module_version": "1.2.0",
            "_model_name": "LayoutModel",
            "_view_count": null,
            "_view_module": "@jupyter-widgets/base",
            "_view_module_version": "1.2.0",
            "_view_name": "LayoutView",
            "align_content": null,
            "align_items": null,
            "align_self": null,
            "border": null,
            "bottom": null,
            "display": null,
            "flex": null,
            "flex_flow": null,
            "grid_area": null,
            "grid_auto_columns": null,
            "grid_auto_flow": null,
            "grid_auto_rows": null,
            "grid_column": null,
            "grid_gap": null,
            "grid_row": null,
            "grid_template_areas": null,
            "grid_template_columns": null,
            "grid_template_rows": null,
            "height": null,
            "justify_content": null,
            "justify_items": null,
            "left": null,
            "margin": null,
            "max_height": null,
            "max_width": null,
            "min_height": null,
            "min_width": null,
            "object_fit": null,
            "object_position": null,
            "order": null,
            "overflow": null,
            "overflow_x": null,
            "overflow_y": null,
            "padding": null,
            "right": null,
            "top": null,
            "visibility": null,
            "width": null
          }
        },
        "8919f47613e2411d83d84aa21aa1ff0b": {
          "model_module": "@jupyter-widgets/controls",
          "model_name": "DescriptionStyleModel",
          "model_module_version": "1.5.0",
          "state": {
            "_model_module": "@jupyter-widgets/controls",
            "_model_module_version": "1.5.0",
            "_model_name": "DescriptionStyleModel",
            "_view_count": null,
            "_view_module": "@jupyter-widgets/base",
            "_view_module_version": "1.2.0",
            "_view_name": "StyleView",
            "description_width": ""
          }
        },
        "b61f5d582945421dbcd4e2959bf34050": {
          "model_module": "@jupyter-widgets/controls",
          "model_name": "HBoxModel",
          "model_module_version": "1.5.0",
          "state": {
            "_dom_classes": [],
            "_model_module": "@jupyter-widgets/controls",
            "_model_module_version": "1.5.0",
            "_model_name": "HBoxModel",
            "_view_count": null,
            "_view_module": "@jupyter-widgets/controls",
            "_view_module_version": "1.5.0",
            "_view_name": "HBoxView",
            "box_style": "",
            "children": [
              "IPY_MODEL_5b07eaf0c5e24fb688520d0bb7d097c5",
              "IPY_MODEL_42857b15e7ab41de92abaa57a3dfec44",
              "IPY_MODEL_92b40e7e97164e65a4d7b6d84a1f7d19"
            ],
            "layout": "IPY_MODEL_e4bc5420fa3c4c57bd8056ef90c50d04"
          }
        },
        "5b07eaf0c5e24fb688520d0bb7d097c5": {
          "model_module": "@jupyter-widgets/controls",
          "model_name": "HTMLModel",
          "model_module_version": "1.5.0",
          "state": {
            "_dom_classes": [],
            "_model_module": "@jupyter-widgets/controls",
            "_model_module_version": "1.5.0",
            "_model_name": "HTMLModel",
            "_view_count": null,
            "_view_module": "@jupyter-widgets/controls",
            "_view_module_version": "1.5.0",
            "_view_name": "HTMLView",
            "description": "",
            "description_tooltip": null,
            "layout": "IPY_MODEL_a07bd46c84ee42739cd7d961de7d202b",
            "placeholder": "​",
            "style": "IPY_MODEL_8210b5e8d957445c9e07b86718b5fe36",
            "value": "100%"
          }
        },
        "42857b15e7ab41de92abaa57a3dfec44": {
          "model_module": "@jupyter-widgets/controls",
          "model_name": "FloatProgressModel",
          "model_module_version": "1.5.0",
          "state": {
            "_dom_classes": [],
            "_model_module": "@jupyter-widgets/controls",
            "_model_module_version": "1.5.0",
            "_model_name": "FloatProgressModel",
            "_view_count": null,
            "_view_module": "@jupyter-widgets/controls",
            "_view_module_version": "1.5.0",
            "_view_name": "ProgressView",
            "bar_style": "success",
            "description": "",
            "description_tooltip": null,
            "layout": "IPY_MODEL_57686c84e9164253b55ba98356f82a77",
            "max": 5000,
            "min": 0,
            "orientation": "horizontal",
            "style": "IPY_MODEL_c2f13cfa0ec84b0ba30ea85de3d8ea5a",
            "value": 5000
          }
        },
        "92b40e7e97164e65a4d7b6d84a1f7d19": {
          "model_module": "@jupyter-widgets/controls",
          "model_name": "HTMLModel",
          "model_module_version": "1.5.0",
          "state": {
            "_dom_classes": [],
            "_model_module": "@jupyter-widgets/controls",
            "_model_module_version": "1.5.0",
            "_model_name": "HTMLModel",
            "_view_count": null,
            "_view_module": "@jupyter-widgets/controls",
            "_view_module_version": "1.5.0",
            "_view_name": "HTMLView",
            "description": "",
            "description_tooltip": null,
            "layout": "IPY_MODEL_03ea1503f4d84f46b011155452f223a6",
            "placeholder": "​",
            "style": "IPY_MODEL_f329ec7ad7aa413b82755fe1781dbf7c",
            "value": " 5000/5000 [00:20&lt;00:00, 249.91it/s]"
          }
        },
        "e4bc5420fa3c4c57bd8056ef90c50d04": {
          "model_module": "@jupyter-widgets/base",
          "model_name": "LayoutModel",
          "model_module_version": "1.2.0",
          "state": {
            "_model_module": "@jupyter-widgets/base",
            "_model_module_version": "1.2.0",
            "_model_name": "LayoutModel",
            "_view_count": null,
            "_view_module": "@jupyter-widgets/base",
            "_view_module_version": "1.2.0",
            "_view_name": "LayoutView",
            "align_content": null,
            "align_items": null,
            "align_self": null,
            "border": null,
            "bottom": null,
            "display": null,
            "flex": null,
            "flex_flow": null,
            "grid_area": null,
            "grid_auto_columns": null,
            "grid_auto_flow": null,
            "grid_auto_rows": null,
            "grid_column": null,
            "grid_gap": null,
            "grid_row": null,
            "grid_template_areas": null,
            "grid_template_columns": null,
            "grid_template_rows": null,
            "height": null,
            "justify_content": null,
            "justify_items": null,
            "left": null,
            "margin": null,
            "max_height": null,
            "max_width": null,
            "min_height": null,
            "min_width": null,
            "object_fit": null,
            "object_position": null,
            "order": null,
            "overflow": null,
            "overflow_x": null,
            "overflow_y": null,
            "padding": null,
            "right": null,
            "top": null,
            "visibility": null,
            "width": null
          }
        },
        "a07bd46c84ee42739cd7d961de7d202b": {
          "model_module": "@jupyter-widgets/base",
          "model_name": "LayoutModel",
          "model_module_version": "1.2.0",
          "state": {
            "_model_module": "@jupyter-widgets/base",
            "_model_module_version": "1.2.0",
            "_model_name": "LayoutModel",
            "_view_count": null,
            "_view_module": "@jupyter-widgets/base",
            "_view_module_version": "1.2.0",
            "_view_name": "LayoutView",
            "align_content": null,
            "align_items": null,
            "align_self": null,
            "border": null,
            "bottom": null,
            "display": null,
            "flex": null,
            "flex_flow": null,
            "grid_area": null,
            "grid_auto_columns": null,
            "grid_auto_flow": null,
            "grid_auto_rows": null,
            "grid_column": null,
            "grid_gap": null,
            "grid_row": null,
            "grid_template_areas": null,
            "grid_template_columns": null,
            "grid_template_rows": null,
            "height": null,
            "justify_content": null,
            "justify_items": null,
            "left": null,
            "margin": null,
            "max_height": null,
            "max_width": null,
            "min_height": null,
            "min_width": null,
            "object_fit": null,
            "object_position": null,
            "order": null,
            "overflow": null,
            "overflow_x": null,
            "overflow_y": null,
            "padding": null,
            "right": null,
            "top": null,
            "visibility": null,
            "width": null
          }
        },
        "8210b5e8d957445c9e07b86718b5fe36": {
          "model_module": "@jupyter-widgets/controls",
          "model_name": "DescriptionStyleModel",
          "model_module_version": "1.5.0",
          "state": {
            "_model_module": "@jupyter-widgets/controls",
            "_model_module_version": "1.5.0",
            "_model_name": "DescriptionStyleModel",
            "_view_count": null,
            "_view_module": "@jupyter-widgets/base",
            "_view_module_version": "1.2.0",
            "_view_name": "StyleView",
            "description_width": ""
          }
        },
        "57686c84e9164253b55ba98356f82a77": {
          "model_module": "@jupyter-widgets/base",
          "model_name": "LayoutModel",
          "model_module_version": "1.2.0",
          "state": {
            "_model_module": "@jupyter-widgets/base",
            "_model_module_version": "1.2.0",
            "_model_name": "LayoutModel",
            "_view_count": null,
            "_view_module": "@jupyter-widgets/base",
            "_view_module_version": "1.2.0",
            "_view_name": "LayoutView",
            "align_content": null,
            "align_items": null,
            "align_self": null,
            "border": null,
            "bottom": null,
            "display": null,
            "flex": null,
            "flex_flow": null,
            "grid_area": null,
            "grid_auto_columns": null,
            "grid_auto_flow": null,
            "grid_auto_rows": null,
            "grid_column": null,
            "grid_gap": null,
            "grid_row": null,
            "grid_template_areas": null,
            "grid_template_columns": null,
            "grid_template_rows": null,
            "height": null,
            "justify_content": null,
            "justify_items": null,
            "left": null,
            "margin": null,
            "max_height": null,
            "max_width": null,
            "min_height": null,
            "min_width": null,
            "object_fit": null,
            "object_position": null,
            "order": null,
            "overflow": null,
            "overflow_x": null,
            "overflow_y": null,
            "padding": null,
            "right": null,
            "top": null,
            "visibility": null,
            "width": null
          }
        },
        "c2f13cfa0ec84b0ba30ea85de3d8ea5a": {
          "model_module": "@jupyter-widgets/controls",
          "model_name": "ProgressStyleModel",
          "model_module_version": "1.5.0",
          "state": {
            "_model_module": "@jupyter-widgets/controls",
            "_model_module_version": "1.5.0",
            "_model_name": "ProgressStyleModel",
            "_view_count": null,
            "_view_module": "@jupyter-widgets/base",
            "_view_module_version": "1.2.0",
            "_view_name": "StyleView",
            "bar_color": null,
            "description_width": ""
          }
        },
        "03ea1503f4d84f46b011155452f223a6": {
          "model_module": "@jupyter-widgets/base",
          "model_name": "LayoutModel",
          "model_module_version": "1.2.0",
          "state": {
            "_model_module": "@jupyter-widgets/base",
            "_model_module_version": "1.2.0",
            "_model_name": "LayoutModel",
            "_view_count": null,
            "_view_module": "@jupyter-widgets/base",
            "_view_module_version": "1.2.0",
            "_view_name": "LayoutView",
            "align_content": null,
            "align_items": null,
            "align_self": null,
            "border": null,
            "bottom": null,
            "display": null,
            "flex": null,
            "flex_flow": null,
            "grid_area": null,
            "grid_auto_columns": null,
            "grid_auto_flow": null,
            "grid_auto_rows": null,
            "grid_column": null,
            "grid_gap": null,
            "grid_row": null,
            "grid_template_areas": null,
            "grid_template_columns": null,
            "grid_template_rows": null,
            "height": null,
            "justify_content": null,
            "justify_items": null,
            "left": null,
            "margin": null,
            "max_height": null,
            "max_width": null,
            "min_height": null,
            "min_width": null,
            "object_fit": null,
            "object_position": null,
            "order": null,
            "overflow": null,
            "overflow_x": null,
            "overflow_y": null,
            "padding": null,
            "right": null,
            "top": null,
            "visibility": null,
            "width": null
          }
        },
        "f329ec7ad7aa413b82755fe1781dbf7c": {
          "model_module": "@jupyter-widgets/controls",
          "model_name": "DescriptionStyleModel",
          "model_module_version": "1.5.0",
          "state": {
            "_model_module": "@jupyter-widgets/controls",
            "_model_module_version": "1.5.0",
            "_model_name": "DescriptionStyleModel",
            "_view_count": null,
            "_view_module": "@jupyter-widgets/base",
            "_view_module_version": "1.2.0",
            "_view_name": "StyleView",
            "description_width": ""
          }
        }
      }
    }
  },
  "cells": [
    {
      "cell_type": "markdown",
      "metadata": {
        "id": "view-in-github",
        "colab_type": "text"
      },
      "source": [
        "<a href=\"https://colab.research.google.com/github/rsanthosh99/Deep_Learning_UT/blob/main/MIS_285_HW_1.ipynb\" target=\"_parent\"><img src=\"https://colab.research.google.com/assets/colab-badge.svg\" alt=\"Open In Colab\"/></a>"
      ]
    },
    {
      "cell_type": "markdown",
      "source": [
        "# MIS 285N: Homework 1\n",
        "\n",
        "Submit:\n",
        "\n",
        "A pdf of your notebook with solutions.\n",
        "A link to your colab notebook or also upload your .ipynb if not working on colab.\n",
        "\n",
        "# Goals of this Lab\n",
        "\n",
        "**Fully Connected Models and XOR**\n",
        "\n",
        "\n",
        "1. How to create data objects that pytorch can use\n",
        "2. How to create a dataloader\n",
        "3. How to define a basic fully connected single layer model\n",
        "4. How to define a multi-layer fully connected model\n",
        "5. How to add non-linear activation functions.\n",
        "6. How to add layers in two different ways\n",
        "\n",
        "We also see the importance of nonlinear activation functions directly, by experimenting with the simple 4-data-point XOR example that we saw in class.\n"
      ],
      "metadata": {
        "id": "vMQXDZXXN8q2"
      }
    },
    {
      "cell_type": "code",
      "execution_count": 9,
      "metadata": {
        "id": "T6k-hagH8H0l"
      },
      "outputs": [],
      "source": [
        "import torch\n",
        "import numpy as np\n",
        "import time\n",
        "from tqdm.notebook import tqdm"
      ]
    },
    {
      "cell_type": "markdown",
      "source": [
        "# First we define a linear regressor.\n",
        "This is the same as a fully connected layer. It will be a building block in making deeper neural networks with fully connected layers."
      ],
      "metadata": {
        "id": "-LLf1qGBkNx4"
      }
    },
    {
      "cell_type": "code",
      "source": [
        "# We define our first class: LinearRegressor\n",
        "#\n",
        "class LinearRegressor(torch.nn.Module):\n",
        "    def __init__(self, input_dim, output_dim):\n",
        "        \"\"\"\n",
        "        Define the layer(s) needed for the linear model.\n",
        "        \"\"\"\n",
        "        super().__init__()\n",
        "        self.linear = torch.nn.Linear(input_dim, output_dim, bias = True) # just linear\n",
        "\n",
        "    def forward(self, x):\n",
        "        \"\"\"\n",
        "        Calculate the regression score (MSE).\n",
        "\n",
        "        Input:\n",
        "            x (float tensor N x d): input rows\n",
        "        Output:\n",
        "            y (float tensor N x 1): regression output\n",
        "        \"\"\"\n",
        "        x = self.linear(x)\n",
        "        return torch.flatten(x)\n",
        "\n",
        "\n",
        "    # defining a separate predict function is useful for multi-class\n",
        "    # classification as we will see later. Here it is\n",
        "    # unnecessary.\n",
        "\n",
        "    def predict(self, x):\n",
        "        \"\"\"\n",
        "        Predict the regression label of the input vector.\n",
        "\n",
        "        Input:\n",
        "            x (float tensor N X d): input images\n",
        "        Output:\n",
        "            y (float tensor N x 1): regression output\n",
        "        \"\"\"\n",
        "        x = self.linear(x)\n",
        "        return torch.flatten(x)\n",
        "\n",
        "\n"
      ],
      "metadata": {
        "id": "5ikI4E7WXrCQ"
      },
      "execution_count": 12,
      "outputs": []
    },
    {
      "cell_type": "markdown",
      "source": [
        "## Problem 1:\n",
        "\n",
        "Now you will use torch.nn.Sequential (see https://pytorch.org/docs/stable/generated/torch.nn.Sequential.html) to construct a two layer neural network, with two fully connected layers (no non-linearity yet). Thus, you will combine torch.nn.Sequential with torch.nn.Linear that you saw above.\n",
        "\n",
        "\n",
        "Design your network so that the first layer has as many neurons as the input.\n",
        "\n",
        "Note: you have only one line to fill in here."
      ],
      "metadata": {
        "id": "36zhuTCUkZXT"
      }
    },
    {
      "cell_type": "code",
      "source": [
        "class TwoLayerLinearRegressor(torch.nn.Module):\n",
        "    def __init__(self, input_dim, output_dim):\n",
        "        \"\"\"\n",
        "        Define a model that stacks two linear fully connected layers.\n",
        "        \"\"\"\n",
        "        super().__init__()\n",
        "        self.TLL = torch.nn.Sequential(\n",
        "              torch.nn.Linear(input_dim, input_dim),\n",
        "              torch.nn.Linear(input_dim, output_dim)\n",
        "              )\n",
        "\n",
        "    def forward(self, x):\n",
        "        \"\"\"\n",
        "        Calculate the regression score (MSE).\n",
        "\n",
        "        Input:\n",
        "            x (float tensor N x d): input rows\n",
        "        Output:\n",
        "            y (float tensor N x 1): regression output\n",
        "        \"\"\"\n",
        "        x = self.TLL(x)\n",
        "        return torch.flatten(x)\n",
        "\n",
        "    def predict(self, x):\n",
        "        \"\"\"\n",
        "        Predict the regression label of the input vector.\n",
        "\n",
        "        Input:\n",
        "            x (float tensor N X d): input images\n",
        "        Output:\n",
        "            y (float tensor N x 1): regression output\n",
        "        \"\"\"\n",
        "        x = self.TLL(x)\n",
        "        return torch.flatten(x)\n",
        "\n",
        "\n",
        "\n",
        "\n"
      ],
      "metadata": {
        "id": "0LpZdyIOjlr4"
      },
      "execution_count": 23,
      "outputs": []
    },
    {
      "cell_type": "markdown",
      "source": [
        "## Problem 2\n",
        "\n",
        "Now you will create the same network, but using different syntax: you will not use torch.nn.Sequential. You need to fill in the two lines as noted by the comments."
      ],
      "metadata": {
        "id": "A9JRe7K3lQx7"
      }
    },
    {
      "cell_type": "code",
      "source": [
        "class TwoLayerLinearRegressor2(torch.nn.Module):\n",
        "    def __init__(self, input_dim, output_dim):\n",
        "        \"\"\"\n",
        "        Define a model that stacks two linear fully connected layers.\n",
        "        \"\"\"\n",
        "        super().__init__()\n",
        "        self.fc1 = torch.nn.Linear(input_dim, input_dim)\n",
        "        self.fc2 = torch.nn.Linear(input_dim, output_dim)\n",
        "\n",
        "    def forward(self, x):\n",
        "        \"\"\"\n",
        "        Calculate the regression score (MSE).\n",
        "\n",
        "        Input:\n",
        "            x (float tensor N x d): input rows\n",
        "        Output:\n",
        "            y (float tensor N x 1): regression output\n",
        "        \"\"\"\n",
        "\n",
        "        x = self.fc1(x)\n",
        "        x = self.fc2(x)\n",
        "        return torch.flatten(x)\n",
        "\n",
        "    def predict(self, x):\n",
        "        \"\"\"\n",
        "        Predict the regression label of the input vector.\n",
        "\n",
        "        Input:\n",
        "            x (float tensor N X d): input images\n",
        "        Output:\n",
        "            y (float tensor N x 1): regression output\n",
        "        \"\"\"\n",
        "        x = self.fc1(x)\n",
        "        x = self.fc2(x)\n",
        "        return torch.flatten(x)\n"
      ],
      "metadata": {
        "id": "vZSpFBJdj-Da"
      },
      "execution_count": 24,
      "outputs": []
    },
    {
      "cell_type": "markdown",
      "source": [
        "## Problem 3\n",
        "\n",
        "Now you will define a 2 layer neural network with ReLU activation at the first layer. In other words:\n",
        "\n",
        "Let $x$ be the input.\n",
        "Then writing $z = Wx + c$, $h=$ReLU$(z)$ is the first layer's neurons. Then the output is $y = w\\cdot z+d$.\n",
        "\n",
        "Create this neural network using the torch.nn.Sequential command. Conceptually, it may help to realize that this neural network is: a fully connected layer followed by a ReLU, followed by a fully connected layer.\n",
        "\n",
        "Also see: https://pytorch.org/docs/stable/generated/torch.nn.ReLU.html\n",
        "\n",
        "Note: You have only one line to fill in here."
      ],
      "metadata": {
        "id": "pTKDb01ilnks"
      }
    },
    {
      "cell_type": "code",
      "source": [
        "class TwoLayerNonLinearRegressor(torch.nn.Module):\n",
        "    def __init__(self, input_dim, output_dim):\n",
        "        \"\"\"\n",
        "        Define a model that has a linear layer, a ReLU layer and another linear layer.\n",
        "        \"\"\"\n",
        "        super().__init__()\n",
        "        self.linear = torch.nn.Sequential(torch.nn.Linear(input_dim, input_dim),  torch.nn.ReLU(), torch.nn.Linear(input_dim, output_dim))\n",
        "    def forward(self, x):\n",
        "        \"\"\"\n",
        "        Calculate the regression score (MSE).\n",
        "\n",
        "        Input:\n",
        "            x (float tensor N x d): input rows\n",
        "        Output:\n",
        "            y (float tensor N x 1): regression output\n",
        "        \"\"\"\n",
        "        x = self.linear(x)\n",
        "        return torch.flatten(x)\n",
        "\n",
        "    def predict(self, x):\n",
        "        \"\"\"\n",
        "        Predict the regression label of the input vector.\n",
        "\n",
        "        Input:\n",
        "            x (float tensor N X d): input images\n",
        "        Output:\n",
        "            y (float tensor N x 1): regression output\n",
        "        \"\"\"\n",
        "        x = self.linear(x)\n",
        "        return torch.flatten(x)\n",
        "\n"
      ],
      "metadata": {
        "id": "031WUqCajrJ_"
      },
      "execution_count": 25,
      "outputs": []
    },
    {
      "cell_type": "markdown",
      "source": [
        "## Problem 4\n",
        "\n",
        "Do this one more time, but now without torch.nn.Sequential.\n",
        "\n",
        "You have three lines to fill in here."
      ],
      "metadata": {
        "id": "ApkXVRwfmaXj"
      }
    },
    {
      "cell_type": "code",
      "source": [
        "# We now do this again, without using nn.sequential\n",
        "# in order to illustrate different syntax.\n",
        "\n",
        "class TwoLayerNonLinearRegressor2(torch.nn.Module):\n",
        "    def __init__(self, input_dim, output_dim):\n",
        "        \"\"\"\n",
        "        Define a model that has a linear layer, a ReLU layer and another linear layer.\n",
        "        \"\"\"\n",
        "        super().__init__()\n",
        "        self.fc1 = torch.nn.Linear(input_dim, input_dim)\n",
        "        self.relu = torch.nn.ReLU()\n",
        "        self.fc2 = torch.nn.Linear(input_dim, output_dim)\n",
        "\n",
        "    def forward(self, x):\n",
        "        \"\"\"\n",
        "        Calculate the regression score (MSE).\n",
        "\n",
        "        Input:\n",
        "            x (float tensor N x d): input rows\n",
        "        Output:\n",
        "            y (float tensor N x 1): regression output\n",
        "        \"\"\"\n",
        "\n",
        "        x = self.fc1(x)\n",
        "        x = self.relu(x)\n",
        "        x = self.fc2(x)\n",
        "        return torch.flatten(x)\n",
        "\n",
        "    def predict(self, x):\n",
        "        \"\"\"\n",
        "        Predict the regression label of the input vector.\n",
        "\n",
        "        Input:\n",
        "            x (float tensor N X d): input images\n",
        "        Output:\n",
        "            y (float tensor N x 1): regression output\n",
        "        \"\"\"\n",
        "        x = self.fc1(x)\n",
        "        x = self.relu(x)\n",
        "        x = self.fc2(x)\n",
        "        return torch.flatten(x)"
      ],
      "metadata": {
        "id": "W7CrOFr8jtdp"
      },
      "execution_count": 26,
      "outputs": []
    },
    {
      "cell_type": "markdown",
      "source": [
        "## Problem 5 (Nothing to turn in)\n",
        "\n",
        "Read the documentation https://pytorch.org/docs/stable/optim.html to see what are the options pytorch provides for an optimizer, and what the parameters are."
      ],
      "metadata": {
        "id": "7-7v8qRLmk3b"
      }
    },
    {
      "cell_type": "code",
      "source": [
        "# Now we define a function for training\n",
        "# Note each of the arguments that it takes\n",
        "\n",
        "def train(model, data_train, data_val, device, lr=0.01, epochs=5000):\n",
        "    \"\"\"\n",
        "    Train the model.\n",
        "\n",
        "    Input:\n",
        "      model (torch.nn.Module): the model to train\n",
        "      data_train (torch.utils.data.Dataloader): yields batches of data\n",
        "      data_val (torch.utils.data.Dataloader): use this to validate your model\n",
        "      device (torch.device): which device to use to perform computation\n",
        "\n",
        "      (optional) lr: learning rate hyperparameter\n",
        "      (optional) epochs: number of passes over dataloader\n",
        "    \"\"\"\n",
        "\n",
        "    # Setup the loss function to use: mean squared error\n",
        "    loss_function = torch.nn.MSELoss(reduction = 'sum')\n",
        "\n",
        "    # Setup the optimizer -- just generic ADAM\n",
        "    optimizer = torch.optim.Adam(model.parameters(), lr=lr)\n",
        "\n",
        "    # Wrap in a progress bar.\n",
        "    for epoch in tqdm(range(epochs)):\n",
        "        # Set the model to training mode.\n",
        "        model.train()\n",
        "\n",
        "        for x, y in data_train:\n",
        "            x = x.to(device)\n",
        "            y = y.to(device)\n",
        "\n",
        "            # Forward pass through the network\n",
        "            output = model(x)\n",
        "\n",
        "            # Compute loss\n",
        "            loss = loss_function(output, y)\n",
        "\n",
        "            # update model weights.\n",
        "            optimizer.zero_grad()\n",
        "            loss.backward()\n",
        "            optimizer.step()\n",
        "\n",
        "        # Set the model to eval mode and compute accuracy.\n",
        "        model.eval()\n",
        "\n",
        "        accuracys_val = list()\n",
        "\n",
        "        for x, y in data_val:\n",
        "            x = x.to(device)\n",
        "            y = y.to(device)\n",
        "\n",
        "            y_pred = model.predict(x)"
      ],
      "metadata": {
        "id": "-gYODAFizPe-"
      },
      "execution_count": 17,
      "outputs": []
    },
    {
      "cell_type": "code",
      "source": [
        "# We write a function that takes a model, evaluate on the validation\n",
        "# data set and returns the predictions\n",
        "\n",
        "def evaluate_model(model,data_val,device):\n",
        "  model.eval()\n",
        "  output_vals = list()\n",
        "  accuracys_val = list()\n",
        "  for x, y in data_val:\n",
        "            x = x.to(device)\n",
        "            y = y.to(device)\n",
        "\n",
        "            y_pred = model.predict(x)\n",
        "            output_vals.append(y_pred)\n",
        "            # accuracy_val = (y_pred == y).float().mean().item()\n",
        "            # accuracys_val.append(accuracy_val)\n",
        "\n",
        "  # accuracy = torch.FloatTensor(accuracys_val).mean().item()\n",
        "  return output_vals"
      ],
      "metadata": {
        "id": "FObDOykPz16p"
      },
      "execution_count": 18,
      "outputs": []
    },
    {
      "cell_type": "markdown",
      "source": [
        "## Problem 6 (Nothing to turn in)\n",
        "\n",
        "Read the documentation and try to understand what a dataloader is. You can start here https://pytorch.org/docs/stable/data.html but there are many tutorials out there as well."
      ],
      "metadata": {
        "id": "JtZYmSP5m7rT"
      }
    },
    {
      "cell_type": "code",
      "source": [
        "import numpy as np\n",
        "# Creating the data: Linear Regression on Linear Data\n",
        "from torch.utils.data import TensorDataset, DataLoader\n",
        "N = 15\n",
        "X = np.random.randn(N,3)\n",
        "beta = np.array([1,-1,2])\n",
        "Y = np.dot(X,beta)\n",
        "tensor_x = torch.Tensor(X) # transform to torch tensor\n",
        "tensor_y = torch.Tensor(Y)\n",
        "print('These are the labels:\\n',Y)\n",
        "print('These are the features:\\n',X)\n",
        "\n",
        "m = 1 # Batch size\n",
        "data = TensorDataset(tensor_x,tensor_y) # create your datset\n",
        "data_train = DataLoader(data,batch_size = m, shuffle = True) # create your dataloader with training data\n",
        "data_val = DataLoader(data) # create your dataloader with validation data, here same as training"
      ],
      "metadata": {
        "id": "qtVUvfryzIJC",
        "colab": {
          "base_uri": "https://localhost:8080/"
        },
        "outputId": "c604a35f-231a-43c9-e0b5-2abc8e361f3c"
      },
      "execution_count": 19,
      "outputs": [
        {
          "output_type": "stream",
          "name": "stdout",
          "text": [
            "These are the labels:\n",
            " [-0.22853653 -0.8369304   0.38693409 -0.57507427  4.17961173 -1.13406339\n",
            " -1.16167357  3.99714745 -1.34947889 -2.72932195  1.51817797 -1.18347261\n",
            " -4.59993721 -2.02846486 -1.12325124]\n",
            "These are the features:\n",
            " [[ 0.31650525  1.09056039  0.2727593 ]\n",
            " [-0.84650142  1.29840367  0.65398734]\n",
            " [ 0.96782376  0.20118207 -0.1898538 ]\n",
            " [ 1.46438325  1.88474418 -0.07735667]\n",
            " [ 0.48826808  0.45865945  2.07500156]\n",
            " [-0.38558949  1.59687021  0.42419816]\n",
            " [ 0.08172107  0.50584879 -0.36877293]\n",
            " [ 1.29188198 -0.71209382  0.99658583]\n",
            " [-0.2151147   0.45694632 -0.33870893]\n",
            " [-1.21975608  0.39544414 -0.55706086]\n",
            " [ 0.32272742  0.11614709  0.65579882]\n",
            " [ 0.67717048  0.59473396 -0.63295456]\n",
            " [-1.67494344  1.0762895  -0.92435214]\n",
            " [ 0.39151539  1.5872391  -0.41637057]\n",
            " [-0.40938421 -0.49949254 -0.60667979]]\n"
          ]
        }
      ]
    },
    {
      "cell_type": "markdown",
      "source": [
        "## Now we train and evaluate the linear model."
      ],
      "metadata": {
        "id": "aFTIV3OcnKS8"
      }
    },
    {
      "cell_type": "code",
      "source": [
        "# Define the model we wish to use, and train it.\n",
        "device = torch.device('cuda' if torch.cuda.is_available() else 'cpu')\n",
        "\n",
        "model = LinearRegressor(3, 1)\n",
        "model.to(device)\n",
        "\n",
        "train(model, data_train, data_val, device)"
      ],
      "metadata": {
        "id": "BdXFWEN41NBt",
        "colab": {
          "base_uri": "https://localhost:8080/",
          "height": 49,
          "referenced_widgets": [
            "cdaa57d8e933450fbc4dab494fd53d3b",
            "3ef7fbcd349f42fca107d99579897907",
            "4184c0cb54954c3fb571963be81e897b",
            "bd9bf3954aca402bb0a306499a22e407",
            "af4079c2f5424c86ae355bfd928e2ee4",
            "b853063a0c83480f9fc569dcba884728",
            "1300d7ec3fce495ab0c95bb2746c8970",
            "ef279537a3124ed08e59c7a312b25a77",
            "38c549f4f0dc43429b1233b1812b2a50",
            "5932599b75df478e8be2dc3933a9a0e2",
            "734c514e471b420b89d96f70a679b825"
          ]
        },
        "outputId": "327e7db3-f05d-4505-e9ec-72f95b9fa9ec"
      },
      "execution_count": 20,
      "outputs": [
        {
          "output_type": "display_data",
          "data": {
            "text/plain": [
              "  0%|          | 0/5000 [00:00<?, ?it/s]"
            ],
            "application/vnd.jupyter.widget-view+json": {
              "version_major": 2,
              "version_minor": 0,
              "model_id": "cdaa57d8e933450fbc4dab494fd53d3b"
            }
          },
          "metadata": {}
        }
      ]
    },
    {
      "cell_type": "markdown",
      "source": [
        "## Here is some code for getting the parameters of the model."
      ],
      "metadata": {
        "id": "sw--ClBtnYHV"
      }
    },
    {
      "cell_type": "code",
      "source": [
        "# Now let's get the model parameters.\n",
        "# We can see that we have succeeded in learning beta: [1,-1,2]\n",
        "for name, param in model.named_parameters():\n",
        "  print (name, param.data)\n",
        "\n",
        "# If we wanted to, we could also only print the ones that we update (may be useful for more complex models)\n",
        "\"\"\"\n",
        "for name, param in model.named_parameters():\n",
        "    if param.requires_grad:\n",
        "        print (name, param.data)\n",
        "\"\"\""
      ],
      "metadata": {
        "id": "5hfTNlIjTNCV",
        "colab": {
          "base_uri": "https://localhost:8080/",
          "height": 71
        },
        "outputId": "8e4252ed-1d8b-40a3-da5d-c2a8663e94f4"
      },
      "execution_count": 21,
      "outputs": [
        {
          "output_type": "stream",
          "name": "stdout",
          "text": [
            "linear.weight tensor([[ 0.9757, -0.9860,  1.9707]])\n",
            "linear.bias tensor([0.0039])\n"
          ]
        },
        {
          "output_type": "execute_result",
          "data": {
            "text/plain": [
              "'\\nfor name, param in model.named_parameters():\\n    if param.requires_grad:\\n        print (name, param.data)\\n'"
            ],
            "application/vnd.google.colaboratory.intrinsic+json": {
              "type": "string"
            }
          },
          "metadata": {},
          "execution_count": 21
        }
      ]
    },
    {
      "cell_type": "code",
      "source": [
        "# Now let's move to our second model: the two layer linear regressor.\n",
        "# We again define the model using the class we created.\n",
        "# Then we train the model, as above.\n",
        "\n",
        "device = torch.device('cuda' if torch.cuda.is_available() else 'cpu')\n",
        "\n",
        "model2 = TwoLayerLinearRegressor(3, 1)\n",
        "model2.to(device)\n",
        "\n",
        "train(model2, data_train, data_val, device)"
      ],
      "metadata": {
        "id": "DwrvHtgIFbfl",
        "colab": {
          "base_uri": "https://localhost:8080/",
          "height": 49,
          "referenced_widgets": [
            "6ec3b40f61124422a3cca35727e44eeb",
            "b64398bff8394c82b523a586547f41c0",
            "b3db2d0441f94e62ac6a447f8644719a",
            "fbaba2dcebd240b99b5958cea1c73392",
            "f1cadca634624b57802b55fc353bcc5a",
            "1c1939922a2f4aebb967c6f493ad8ff8",
            "7df54dc55b3a45a4b6316728089cf3b0",
            "99286e575dea460499809ad26fc18f19",
            "90ba6cc446f14e06b83656fd9743e836",
            "6ea53f231cfe48c8bf43dbd7873e7588",
            "d25acbbb7e764a73ae4815b870ef40d4"
          ]
        },
        "outputId": "068c3eae-46a4-4d85-94b4-6d05d44d0ff5"
      },
      "execution_count": 34,
      "outputs": [
        {
          "output_type": "display_data",
          "data": {
            "text/plain": [
              "  0%|          | 0/5000 [00:00<?, ?it/s]"
            ],
            "application/vnd.jupyter.widget-view+json": {
              "version_major": 2,
              "version_minor": 0,
              "model_id": "6ec3b40f61124422a3cca35727e44eeb"
            }
          },
          "metadata": {}
        }
      ]
    },
    {
      "cell_type": "code",
      "source": [
        "# Let's see how well this model agrees with the training data\n",
        "output_values = evaluate_model(model2,data_val,device)\n",
        "print('Ground Truth:\\n',Y)\n",
        "print('Model Output:\\n',output_values)"
      ],
      "metadata": {
        "id": "priZSqzc1wrW",
        "colab": {
          "base_uri": "https://localhost:8080/"
        },
        "outputId": "26c74d25-de80-4f8f-fef2-b2d4d88c2852"
      },
      "execution_count": 35,
      "outputs": [
        {
          "output_type": "stream",
          "name": "stdout",
          "text": [
            "Ground Truth:\n",
            " [-0.22853653 -0.8369304   0.38693409 -0.57507427  4.17961173 -1.13406339\n",
            " -1.16167357  3.99714745 -1.34947889 -2.72932195  1.51817797 -1.18347261\n",
            " -4.59993721 -2.02846486 -1.12325124]\n",
            "Model Output:\n",
            " [tensor([-0.2324], grad_fn=<ViewBackward0>), tensor([-0.8394], grad_fn=<ViewBackward0>), tensor([0.3899], grad_fn=<ViewBackward0>), tensor([-0.5985], grad_fn=<ViewBackward0>), tensor([4.1288], grad_fn=<ViewBackward0>), tensor([-1.1466], grad_fn=<ViewBackward0>), tensor([-1.1741], grad_fn=<ViewBackward0>), tensor([3.9603], grad_fn=<ViewBackward0>), tensor([-1.3615], grad_fn=<ViewBackward0>), tensor([-2.7441], grad_fn=<ViewBackward0>), tensor([1.5440], grad_fn=<ViewBackward0>), tensor([-1.2023], grad_fn=<ViewBackward0>), tensor([-4.6100], grad_fn=<ViewBackward0>), tensor([-2.0208], grad_fn=<ViewBackward0>), tensor([-1.1366], grad_fn=<ViewBackward0>)]\n"
          ]
        }
      ]
    },
    {
      "cell_type": "markdown",
      "source": [
        "# The XOR Data Set\n",
        "We see that linear layers do not suffice."
      ],
      "metadata": {
        "id": "d-oOdWV8C8Nu"
      }
    },
    {
      "cell_type": "code",
      "source": [
        "\"\"\"\n",
        "Here we create the simple XOR data set an a numpy array.\n",
        "Then we make X and Y into tensor objects that torch uses,\n",
        "and we package it into a Dataset object called data.\n",
        "Then we create a DataLoader.\n",
        "\"\"\"\n",
        "\n",
        "Xxor = np.array([[0,0],[0,1],[1,0],[1,1]])\n",
        "Yxor = np.array([0,1,1,0])\n",
        "tensor_xxor = torch.Tensor(Xxor) # transform to torch tensor\n",
        "tensor_yxor = torch.Tensor(Yxor)\n",
        "print('These are the labels:\\n',Yxor)\n",
        "print('These are the features:\\n',Xxor)\n",
        "\n",
        "dataxor = TensorDataset(tensor_xxor,tensor_yxor) # create your datset\n",
        "dataxor_train = DataLoader(dataxor) # create your dataloader with training data\n",
        "dataxor_val = DataLoader(dataxor) # create your dataloader with validation data, here same as training"
      ],
      "metadata": {
        "id": "8Qk0d0DUzt1d",
        "colab": {
          "base_uri": "https://localhost:8080/"
        },
        "outputId": "7d1bf08a-5aa2-4723-a8ca-69f1a92bf431"
      },
      "execution_count": 29,
      "outputs": [
        {
          "output_type": "stream",
          "name": "stdout",
          "text": [
            "These are the labels:\n",
            " [0 1 1 0]\n",
            "These are the features:\n",
            " [[0 0]\n",
            " [0 1]\n",
            " [1 0]\n",
            " [1 1]]\n"
          ]
        }
      ]
    },
    {
      "cell_type": "markdown",
      "source": [
        "## Problem 7\n",
        "\n",
        "Train your linear regressor on these data. Now see how well you do, by evaluating your solution on the training data. Remember the values we got in class.\n",
        "\n",
        "Your output here should be predicted values for each of the 4 points in our XOR data set."
      ],
      "metadata": {
        "id": "CZngJgatnmr2"
      }
    },
    {
      "cell_type": "code",
      "source": [
        "# Now we train a linear classifier on these data.\n",
        "# We know (and can verify) that this will fail because no linear classifier can succeed\n",
        "\n",
        "device = torch.device('cuda' if torch.cuda.is_available() else 'cpu')\n",
        "\n",
        "model3 = TwoLayerLinearRegressor(2, 1)\n",
        "model3.to(device)\n",
        "\n",
        "train(model3, dataxor_train, dataxor_val, device)\n",
        "output_values = evaluate_model(model3,dataxor_val,device)\n",
        "print('Ground Truth:\\n',Yxor)\n",
        "print('Model Output:\\n',output_values)"
      ],
      "metadata": {
        "id": "8KJ5-QW8-q1I",
        "colab": {
          "base_uri": "https://localhost:8080/",
          "height": 120,
          "referenced_widgets": [
            "d23f0ea7bedc48e6a6f8b2502b3077a2",
            "ab50c275e4ab43a3a6c7ebc2b0104abc",
            "998c487884d7428db6e283c60b54c6e5",
            "eae32b5a643b4f78a7343087f7e0820d",
            "2640ec245a2e473582c7b258b25a487b",
            "88cd55441837492d8e1cbf8266d99974",
            "bd583c89204b4263a62ca4c9b0326438",
            "73c82d156f7248378b6c21a3c9423d3e",
            "d17682b80dfc48ecb20c32ea7030c848",
            "b2d0c63a7e0f458286055925419040d3",
            "30ca13fe3d8a4893bf50bddec99e929d"
          ]
        },
        "outputId": "a6a8a3bf-66a5-4398-ec55-6212b86a9fa4"
      },
      "execution_count": 32,
      "outputs": [
        {
          "output_type": "display_data",
          "data": {
            "text/plain": [
              "  0%|          | 0/5000 [00:00<?, ?it/s]"
            ],
            "application/vnd.jupyter.widget-view+json": {
              "version_major": 2,
              "version_minor": 0,
              "model_id": "d23f0ea7bedc48e6a6f8b2502b3077a2"
            }
          },
          "metadata": {}
        },
        {
          "output_type": "stream",
          "name": "stdout",
          "text": [
            "Ground Truth:\n",
            " [0 1 1 0]\n",
            "Model Output:\n",
            " [tensor([0.5005], grad_fn=<ViewBackward0>), tensor([0.5005], grad_fn=<ViewBackward0>), tensor([0.5005], grad_fn=<ViewBackward0>), tensor([0.5005], grad_fn=<ViewBackward0>)]\n"
          ]
        }
      ]
    },
    {
      "cell_type": "markdown",
      "source": [
        "## Problem 8\n",
        "\n",
        "Now repeat this, but using both versions of your non-linear two-layer model. Thus: train both versions of your non-linear two layer models, and evaluate them on the data.  \n",
        "\n",
        "If you did this correctly, the values you compute should equal (approximately) the values of the XOR function."
      ],
      "metadata": {
        "id": "mE5JK2I9n9qC"
      }
    },
    {
      "cell_type": "code",
      "source": [
        "device = torch.device('cuda' if torch.cuda.is_available() else 'cpu')\n",
        "\n",
        "model4 = TwoLayerNonLinearRegressor(2, 1)\n",
        "model4.to(device)\n",
        "\n",
        "train(model4, dataxor_train, dataxor_val, device, lr=0.01, epochs=5000)\n",
        "output_values = evaluate_model(model4,dataxor_val,device)\n",
        "print('Ground Truth - NL Version 1:\\n',Yxor)\n",
        "print('Model Output - NL Version 1:\\n',output_values)\n",
        "\n"
      ],
      "metadata": {
        "colab": {
          "base_uri": "https://localhost:8080/",
          "height": 120,
          "referenced_widgets": [
            "6d2a10e4798d41428bbaa71ccbac941a",
            "9cff5e948f934470bd287aea2c44f659",
            "1451cad07c9f487caf84579c2a812091",
            "1148158c8e6142079173ad43e362051c",
            "aeb19d616c3d40878dbab0165e4d651f",
            "8da69a975a82417eb64c9d27e21b2b7d",
            "0184b3fc560d441c8b3dcdcd8230ad85",
            "bd2df5c46c924fe1a6943341a7cb6be9",
            "8f757e73d4bb4887ae3fdbddb5ab7681",
            "9297e2d969534378ae2d7316b3e03b56",
            "8919f47613e2411d83d84aa21aa1ff0b"
          ]
        },
        "id": "KdJMNdEHqVTr",
        "outputId": "b8fac0ad-5cf1-436e-f33f-558a494e77cb"
      },
      "execution_count": 46,
      "outputs": [
        {
          "output_type": "display_data",
          "data": {
            "text/plain": [
              "  0%|          | 0/5000 [00:00<?, ?it/s]"
            ],
            "application/vnd.jupyter.widget-view+json": {
              "version_major": 2,
              "version_minor": 0,
              "model_id": "6d2a10e4798d41428bbaa71ccbac941a"
            }
          },
          "metadata": {}
        },
        {
          "output_type": "stream",
          "name": "stdout",
          "text": [
            "Ground Truth - NL Version 1:\n",
            " [0 1 1 0]\n",
            "Model Output - NL Version 1:\n",
            " [tensor([1.0431e-07], grad_fn=<ViewBackward0>), tensor([1.], grad_fn=<ViewBackward0>), tensor([1.], grad_fn=<ViewBackward0>), tensor([-3.7253e-09], grad_fn=<ViewBackward0>)]\n"
          ]
        }
      ]
    },
    {
      "cell_type": "code",
      "source": [
        "device = torch.device('cuda' if torch.cuda.is_available() else 'cpu')\n",
        "\n",
        "model5 = TwoLayerNonLinearRegressor2(2, 1)\n",
        "model5.to(device)\n",
        "\n",
        "train(model5, dataxor_train, dataxor_val, device, lr=0.01, epochs=5000)\n",
        "output_values = evaluate_model(model5,dataxor_val,device)\n",
        "print('Ground Truth - NL Version 2:\\n',Yxor)\n",
        "print('Model Output - NL Version 2:\\n',output_values)"
      ],
      "metadata": {
        "colab": {
          "base_uri": "https://localhost:8080/",
          "height": 120,
          "referenced_widgets": [
            "b61f5d582945421dbcd4e2959bf34050",
            "5b07eaf0c5e24fb688520d0bb7d097c5",
            "42857b15e7ab41de92abaa57a3dfec44",
            "92b40e7e97164e65a4d7b6d84a1f7d19",
            "e4bc5420fa3c4c57bd8056ef90c50d04",
            "a07bd46c84ee42739cd7d961de7d202b",
            "8210b5e8d957445c9e07b86718b5fe36",
            "57686c84e9164253b55ba98356f82a77",
            "c2f13cfa0ec84b0ba30ea85de3d8ea5a",
            "03ea1503f4d84f46b011155452f223a6",
            "f329ec7ad7aa413b82755fe1781dbf7c"
          ]
        },
        "id": "qLe1_AQMwbEI",
        "outputId": "3f2de4ce-2658-4b58-d294-12eba539241f"
      },
      "execution_count": 43,
      "outputs": [
        {
          "output_type": "display_data",
          "data": {
            "text/plain": [
              "  0%|          | 0/5000 [00:00<?, ?it/s]"
            ],
            "application/vnd.jupyter.widget-view+json": {
              "version_major": 2,
              "version_minor": 0,
              "model_id": "b61f5d582945421dbcd4e2959bf34050"
            }
          },
          "metadata": {}
        },
        {
          "output_type": "stream",
          "name": "stdout",
          "text": [
            "Ground Truth - NL Version 2:\n",
            " [0 1 1 0]\n",
            "Model Output - NL Version 2:\n",
            " [tensor([0.], grad_fn=<ViewBackward0>), tensor([1.], grad_fn=<ViewBackward0>), tensor([1.], grad_fn=<ViewBackward0>), tensor([0.], grad_fn=<ViewBackward0>)]\n"
          ]
        }
      ]
    },
    {
      "cell_type": "markdown",
      "source": [
        "## Problem 9\n",
        "\n",
        "Print the parameters of one of your non-linear models. Thus, you should print: 4 weights plus 2 bias values for the first layer, and then 2 weights plus 1 bias value for the second: 9 parameters in total."
      ],
      "metadata": {
        "id": "NPRZcvQbpL6K"
      }
    },
    {
      "cell_type": "code",
      "source": [
        "for name, param in model4.named_parameters():\n",
        "  print (name, param.data)\n"
      ],
      "metadata": {
        "colab": {
          "base_uri": "https://localhost:8080/"
        },
        "id": "UpWECFB3xw2U",
        "outputId": "4dfe2056-02af-486d-cebf-0514d865144e"
      },
      "execution_count": 47,
      "outputs": [
        {
          "output_type": "stream",
          "name": "stdout",
          "text": [
            "linear.0.weight tensor([[ 1.2912, -1.2682],\n",
            "        [-1.4338,  1.4175]])\n",
            "linear.0.bias tensor([-0.0090,  0.0828])\n",
            "linear.2.weight tensor([[0.8255, 0.7055]])\n",
            "linear.2.bias tensor([-0.0584])\n"
          ]
        }
      ]
    },
    {
      "cell_type": "code",
      "source": [
        "for name, param in model5.named_parameters():\n",
        "  print (name, param.data)\n"
      ],
      "metadata": {
        "colab": {
          "base_uri": "https://localhost:8080/"
        },
        "id": "C3W5cSeex4mb",
        "outputId": "8fb17146-c64d-4b1e-d142-678665e7ee87"
      },
      "execution_count": 45,
      "outputs": [
        {
          "output_type": "stream",
          "name": "stdout",
          "text": [
            "fc1.weight tensor([[-0.6488, -0.4693],\n",
            "        [ 0.8043,  0.8511]])\n",
            "fc1.bias tensor([-0.0471, -0.9198])\n",
            "fc2.weight tensor([[-0.2774, -0.9066]])\n",
            "fc2.bias tensor([0.6675])\n"
          ]
        }
      ]
    },
    {
      "cell_type": "code",
      "source": [],
      "metadata": {
        "id": "lbgIxJZ4yAHG"
      },
      "execution_count": null,
      "outputs": []
    }
  ]
}